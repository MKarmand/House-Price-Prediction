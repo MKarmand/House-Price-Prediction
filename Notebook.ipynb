{
  "nbformat": 4,
  "nbformat_minor": 0,
  "metadata": {
    "colab": {
      "provenance": []
    },
    "kernelspec": {
      "name": "python3",
      "display_name": "Python 3"
    },
    "language_info": {
      "name": "python"
    }
  },
  "cells": [
    {
      "cell_type": "markdown",
      "source": [
        "# Data Understanding"
      ],
      "metadata": {
        "id": "qYlQkle__a7w"
      }
    },
    {
      "cell_type": "markdown",
      "source": [
        "Import Library"
      ],
      "metadata": {
        "id": "J0ChjiwfCEjN"
      }
    },
    {
      "cell_type": "code",
      "source": [
        "# Import Library\n",
        "import pandas as pd  # Untuk memuat dan memproses data\n",
        "import numpy as np  # Untuk manipulasi data numerik\n",
        "import matplotlib.pyplot as plt  # Untuk visualisasi data\n",
        "import seaborn as sns\n",
        "import joblib\n",
        "from sklearn.model_selection import train_test_split  # Untuk membagi data menjadi data latih dan uji\n",
        "from sklearn.ensemble import RandomForestRegressor  # Untuk model Random Forest\n",
        "from sklearn.linear_model import LinearRegression # Untuk Linear Regression\n",
        "from sklearn.metrics import mean_absolute_error, mean_squared_error, r2_score  # Untuk evaluasi model\n"
      ],
      "metadata": {
        "id": "QfCxtyQkB3PX"
      },
      "execution_count": 3,
      "outputs": []
    },
    {
      "cell_type": "markdown",
      "source": [
        " Kode ini mempersiapkan library yang diperlukan untuk melakukan analisis data yang melibatkan regresi, mulai dari pemrosesan data, visualisasi, pembagian data, pemodelan menggunakan algoritma seperti Random Forest dan Linear Regression, hingga evaluasi kinerja model."
      ],
      "metadata": {
        "id": "kZ-yZXDIbrMW"
      }
    },
    {
      "cell_type": "code",
      "source": [
        "# Memuat data dari file Excel\n",
        "df = pd.read_csv('data.csv')\n",
        "\n",
        "# Menampilkan beberapa data awal\n",
        "df\n"
      ],
      "metadata": {
        "colab": {
          "base_uri": "https://localhost:8080/",
          "height": 423
        },
        "id": "5TN5j3SMCHNi",
        "outputId": "03316664-3108-40d1-8d60-62027a7acf66"
      },
      "execution_count": 4,
      "outputs": [
        {
          "output_type": "execute_result",
          "data": {
            "text/plain": [
              "        NO                                         NAMA RUMAH        HARGA  \\\n",
              "0        1  Rumah Murah Hook Tebet Timur, Tebet, Jakarta S...   3800000000   \n",
              "1        2  Rumah Modern di Tebet dekat Stasiun, Tebet, Ja...   4600000000   \n",
              "2        3  Rumah Mewah 2 Lantai Hanya 3 Menit Ke Tebet, T...   3000000000   \n",
              "3        4           Rumah Baru Tebet, Tebet, Jakarta Selatan    430000000   \n",
              "4        5  Rumah Bagus Tebet komp Gudang Peluru lt 350m, ...   9000000000   \n",
              "...    ...                                                ...          ...   \n",
              "1005  1006  Rumah Strategis Akses Jalan 2mobil Di Menteng ...   9000000000   \n",
              "1006  1007             Tebet Rumah Siap Huni Jln 2 Mbl Nyaman   4000000000   \n",
              "1007  1008        Di Kebun Baru Rumah Terawat, Area Strategis   4000000000   \n",
              "1008  1009  Dijual Cepat Rumah Komp Depkeu Dr Soepomo Tebe...  19000000000   \n",
              "1009  1010                Dijual Rumah Kokoh Di Gudang Peluru  10500000000   \n",
              "\n",
              "       LB   LT  KT  KM  GRS  \n",
              "0     220  220   3   3    0  \n",
              "1     180  137   4   3    2  \n",
              "2     267  250   4   4    4  \n",
              "3      40   25   2   2    0  \n",
              "4     400  355   6   5    3  \n",
              "...   ...  ...  ..  ..  ...  \n",
              "1005  450  550  10  10    3  \n",
              "1006  160  140   4   3    2  \n",
              "1007  139  230   4   4    1  \n",
              "1008  360  606   7   4    0  \n",
              "1009  420  430   7   4    2  \n",
              "\n",
              "[1010 rows x 8 columns]"
            ],
            "text/html": [
              "\n",
              "  <div id=\"df-b1004e61-ad44-46b9-ad53-3d4e1cfa81e7\" class=\"colab-df-container\">\n",
              "    <div>\n",
              "<style scoped>\n",
              "    .dataframe tbody tr th:only-of-type {\n",
              "        vertical-align: middle;\n",
              "    }\n",
              "\n",
              "    .dataframe tbody tr th {\n",
              "        vertical-align: top;\n",
              "    }\n",
              "\n",
              "    .dataframe thead th {\n",
              "        text-align: right;\n",
              "    }\n",
              "</style>\n",
              "<table border=\"1\" class=\"dataframe\">\n",
              "  <thead>\n",
              "    <tr style=\"text-align: right;\">\n",
              "      <th></th>\n",
              "      <th>NO</th>\n",
              "      <th>NAMA RUMAH</th>\n",
              "      <th>HARGA</th>\n",
              "      <th>LB</th>\n",
              "      <th>LT</th>\n",
              "      <th>KT</th>\n",
              "      <th>KM</th>\n",
              "      <th>GRS</th>\n",
              "    </tr>\n",
              "  </thead>\n",
              "  <tbody>\n",
              "    <tr>\n",
              "      <th>0</th>\n",
              "      <td>1</td>\n",
              "      <td>Rumah Murah Hook Tebet Timur, Tebet, Jakarta S...</td>\n",
              "      <td>3800000000</td>\n",
              "      <td>220</td>\n",
              "      <td>220</td>\n",
              "      <td>3</td>\n",
              "      <td>3</td>\n",
              "      <td>0</td>\n",
              "    </tr>\n",
              "    <tr>\n",
              "      <th>1</th>\n",
              "      <td>2</td>\n",
              "      <td>Rumah Modern di Tebet dekat Stasiun, Tebet, Ja...</td>\n",
              "      <td>4600000000</td>\n",
              "      <td>180</td>\n",
              "      <td>137</td>\n",
              "      <td>4</td>\n",
              "      <td>3</td>\n",
              "      <td>2</td>\n",
              "    </tr>\n",
              "    <tr>\n",
              "      <th>2</th>\n",
              "      <td>3</td>\n",
              "      <td>Rumah Mewah 2 Lantai Hanya 3 Menit Ke Tebet, T...</td>\n",
              "      <td>3000000000</td>\n",
              "      <td>267</td>\n",
              "      <td>250</td>\n",
              "      <td>4</td>\n",
              "      <td>4</td>\n",
              "      <td>4</td>\n",
              "    </tr>\n",
              "    <tr>\n",
              "      <th>3</th>\n",
              "      <td>4</td>\n",
              "      <td>Rumah Baru Tebet, Tebet, Jakarta Selatan</td>\n",
              "      <td>430000000</td>\n",
              "      <td>40</td>\n",
              "      <td>25</td>\n",
              "      <td>2</td>\n",
              "      <td>2</td>\n",
              "      <td>0</td>\n",
              "    </tr>\n",
              "    <tr>\n",
              "      <th>4</th>\n",
              "      <td>5</td>\n",
              "      <td>Rumah Bagus Tebet komp Gudang Peluru lt 350m, ...</td>\n",
              "      <td>9000000000</td>\n",
              "      <td>400</td>\n",
              "      <td>355</td>\n",
              "      <td>6</td>\n",
              "      <td>5</td>\n",
              "      <td>3</td>\n",
              "    </tr>\n",
              "    <tr>\n",
              "      <th>...</th>\n",
              "      <td>...</td>\n",
              "      <td>...</td>\n",
              "      <td>...</td>\n",
              "      <td>...</td>\n",
              "      <td>...</td>\n",
              "      <td>...</td>\n",
              "      <td>...</td>\n",
              "      <td>...</td>\n",
              "    </tr>\n",
              "    <tr>\n",
              "      <th>1005</th>\n",
              "      <td>1006</td>\n",
              "      <td>Rumah Strategis Akses Jalan 2mobil Di Menteng ...</td>\n",
              "      <td>9000000000</td>\n",
              "      <td>450</td>\n",
              "      <td>550</td>\n",
              "      <td>10</td>\n",
              "      <td>10</td>\n",
              "      <td>3</td>\n",
              "    </tr>\n",
              "    <tr>\n",
              "      <th>1006</th>\n",
              "      <td>1007</td>\n",
              "      <td>Tebet Rumah Siap Huni Jln 2 Mbl Nyaman</td>\n",
              "      <td>4000000000</td>\n",
              "      <td>160</td>\n",
              "      <td>140</td>\n",
              "      <td>4</td>\n",
              "      <td>3</td>\n",
              "      <td>2</td>\n",
              "    </tr>\n",
              "    <tr>\n",
              "      <th>1007</th>\n",
              "      <td>1008</td>\n",
              "      <td>Di Kebun Baru Rumah Terawat, Area Strategis</td>\n",
              "      <td>4000000000</td>\n",
              "      <td>139</td>\n",
              "      <td>230</td>\n",
              "      <td>4</td>\n",
              "      <td>4</td>\n",
              "      <td>1</td>\n",
              "    </tr>\n",
              "    <tr>\n",
              "      <th>1008</th>\n",
              "      <td>1009</td>\n",
              "      <td>Dijual Cepat Rumah Komp Depkeu Dr Soepomo Tebe...</td>\n",
              "      <td>19000000000</td>\n",
              "      <td>360</td>\n",
              "      <td>606</td>\n",
              "      <td>7</td>\n",
              "      <td>4</td>\n",
              "      <td>0</td>\n",
              "    </tr>\n",
              "    <tr>\n",
              "      <th>1009</th>\n",
              "      <td>1010</td>\n",
              "      <td>Dijual Rumah Kokoh Di Gudang Peluru</td>\n",
              "      <td>10500000000</td>\n",
              "      <td>420</td>\n",
              "      <td>430</td>\n",
              "      <td>7</td>\n",
              "      <td>4</td>\n",
              "      <td>2</td>\n",
              "    </tr>\n",
              "  </tbody>\n",
              "</table>\n",
              "<p>1010 rows × 8 columns</p>\n",
              "</div>\n",
              "    <div class=\"colab-df-buttons\">\n",
              "\n",
              "  <div class=\"colab-df-container\">\n",
              "    <button class=\"colab-df-convert\" onclick=\"convertToInteractive('df-b1004e61-ad44-46b9-ad53-3d4e1cfa81e7')\"\n",
              "            title=\"Convert this dataframe to an interactive table.\"\n",
              "            style=\"display:none;\">\n",
              "\n",
              "  <svg xmlns=\"http://www.w3.org/2000/svg\" height=\"24px\" viewBox=\"0 -960 960 960\">\n",
              "    <path d=\"M120-120v-720h720v720H120Zm60-500h600v-160H180v160Zm220 220h160v-160H400v160Zm0 220h160v-160H400v160ZM180-400h160v-160H180v160Zm440 0h160v-160H620v160ZM180-180h160v-160H180v160Zm440 0h160v-160H620v160Z\"/>\n",
              "  </svg>\n",
              "    </button>\n",
              "\n",
              "  <style>\n",
              "    .colab-df-container {\n",
              "      display:flex;\n",
              "      gap: 12px;\n",
              "    }\n",
              "\n",
              "    .colab-df-convert {\n",
              "      background-color: #E8F0FE;\n",
              "      border: none;\n",
              "      border-radius: 50%;\n",
              "      cursor: pointer;\n",
              "      display: none;\n",
              "      fill: #1967D2;\n",
              "      height: 32px;\n",
              "      padding: 0 0 0 0;\n",
              "      width: 32px;\n",
              "    }\n",
              "\n",
              "    .colab-df-convert:hover {\n",
              "      background-color: #E2EBFA;\n",
              "      box-shadow: 0px 1px 2px rgba(60, 64, 67, 0.3), 0px 1px 3px 1px rgba(60, 64, 67, 0.15);\n",
              "      fill: #174EA6;\n",
              "    }\n",
              "\n",
              "    .colab-df-buttons div {\n",
              "      margin-bottom: 4px;\n",
              "    }\n",
              "\n",
              "    [theme=dark] .colab-df-convert {\n",
              "      background-color: #3B4455;\n",
              "      fill: #D2E3FC;\n",
              "    }\n",
              "\n",
              "    [theme=dark] .colab-df-convert:hover {\n",
              "      background-color: #434B5C;\n",
              "      box-shadow: 0px 1px 3px 1px rgba(0, 0, 0, 0.15);\n",
              "      filter: drop-shadow(0px 1px 2px rgba(0, 0, 0, 0.3));\n",
              "      fill: #FFFFFF;\n",
              "    }\n",
              "  </style>\n",
              "\n",
              "    <script>\n",
              "      const buttonEl =\n",
              "        document.querySelector('#df-b1004e61-ad44-46b9-ad53-3d4e1cfa81e7 button.colab-df-convert');\n",
              "      buttonEl.style.display =\n",
              "        google.colab.kernel.accessAllowed ? 'block' : 'none';\n",
              "\n",
              "      async function convertToInteractive(key) {\n",
              "        const element = document.querySelector('#df-b1004e61-ad44-46b9-ad53-3d4e1cfa81e7');\n",
              "        const dataTable =\n",
              "          await google.colab.kernel.invokeFunction('convertToInteractive',\n",
              "                                                    [key], {});\n",
              "        if (!dataTable) return;\n",
              "\n",
              "        const docLinkHtml = 'Like what you see? Visit the ' +\n",
              "          '<a target=\"_blank\" href=https://colab.research.google.com/notebooks/data_table.ipynb>data table notebook</a>'\n",
              "          + ' to learn more about interactive tables.';\n",
              "        element.innerHTML = '';\n",
              "        dataTable['output_type'] = 'display_data';\n",
              "        await google.colab.output.renderOutput(dataTable, element);\n",
              "        const docLink = document.createElement('div');\n",
              "        docLink.innerHTML = docLinkHtml;\n",
              "        element.appendChild(docLink);\n",
              "      }\n",
              "    </script>\n",
              "  </div>\n",
              "\n",
              "\n",
              "    <div id=\"df-6f1b2394-b3f4-4146-84de-9b519c4dae03\">\n",
              "      <button class=\"colab-df-quickchart\" onclick=\"quickchart('df-6f1b2394-b3f4-4146-84de-9b519c4dae03')\"\n",
              "                title=\"Suggest charts\"\n",
              "                style=\"display:none;\">\n",
              "\n",
              "<svg xmlns=\"http://www.w3.org/2000/svg\" height=\"24px\"viewBox=\"0 0 24 24\"\n",
              "     width=\"24px\">\n",
              "    <g>\n",
              "        <path d=\"M19 3H5c-1.1 0-2 .9-2 2v14c0 1.1.9 2 2 2h14c1.1 0 2-.9 2-2V5c0-1.1-.9-2-2-2zM9 17H7v-7h2v7zm4 0h-2V7h2v10zm4 0h-2v-4h2v4z\"/>\n",
              "    </g>\n",
              "</svg>\n",
              "      </button>\n",
              "\n",
              "<style>\n",
              "  .colab-df-quickchart {\n",
              "      --bg-color: #E8F0FE;\n",
              "      --fill-color: #1967D2;\n",
              "      --hover-bg-color: #E2EBFA;\n",
              "      --hover-fill-color: #174EA6;\n",
              "      --disabled-fill-color: #AAA;\n",
              "      --disabled-bg-color: #DDD;\n",
              "  }\n",
              "\n",
              "  [theme=dark] .colab-df-quickchart {\n",
              "      --bg-color: #3B4455;\n",
              "      --fill-color: #D2E3FC;\n",
              "      --hover-bg-color: #434B5C;\n",
              "      --hover-fill-color: #FFFFFF;\n",
              "      --disabled-bg-color: #3B4455;\n",
              "      --disabled-fill-color: #666;\n",
              "  }\n",
              "\n",
              "  .colab-df-quickchart {\n",
              "    background-color: var(--bg-color);\n",
              "    border: none;\n",
              "    border-radius: 50%;\n",
              "    cursor: pointer;\n",
              "    display: none;\n",
              "    fill: var(--fill-color);\n",
              "    height: 32px;\n",
              "    padding: 0;\n",
              "    width: 32px;\n",
              "  }\n",
              "\n",
              "  .colab-df-quickchart:hover {\n",
              "    background-color: var(--hover-bg-color);\n",
              "    box-shadow: 0 1px 2px rgba(60, 64, 67, 0.3), 0 1px 3px 1px rgba(60, 64, 67, 0.15);\n",
              "    fill: var(--button-hover-fill-color);\n",
              "  }\n",
              "\n",
              "  .colab-df-quickchart-complete:disabled,\n",
              "  .colab-df-quickchart-complete:disabled:hover {\n",
              "    background-color: var(--disabled-bg-color);\n",
              "    fill: var(--disabled-fill-color);\n",
              "    box-shadow: none;\n",
              "  }\n",
              "\n",
              "  .colab-df-spinner {\n",
              "    border: 2px solid var(--fill-color);\n",
              "    border-color: transparent;\n",
              "    border-bottom-color: var(--fill-color);\n",
              "    animation:\n",
              "      spin 1s steps(1) infinite;\n",
              "  }\n",
              "\n",
              "  @keyframes spin {\n",
              "    0% {\n",
              "      border-color: transparent;\n",
              "      border-bottom-color: var(--fill-color);\n",
              "      border-left-color: var(--fill-color);\n",
              "    }\n",
              "    20% {\n",
              "      border-color: transparent;\n",
              "      border-left-color: var(--fill-color);\n",
              "      border-top-color: var(--fill-color);\n",
              "    }\n",
              "    30% {\n",
              "      border-color: transparent;\n",
              "      border-left-color: var(--fill-color);\n",
              "      border-top-color: var(--fill-color);\n",
              "      border-right-color: var(--fill-color);\n",
              "    }\n",
              "    40% {\n",
              "      border-color: transparent;\n",
              "      border-right-color: var(--fill-color);\n",
              "      border-top-color: var(--fill-color);\n",
              "    }\n",
              "    60% {\n",
              "      border-color: transparent;\n",
              "      border-right-color: var(--fill-color);\n",
              "    }\n",
              "    80% {\n",
              "      border-color: transparent;\n",
              "      border-right-color: var(--fill-color);\n",
              "      border-bottom-color: var(--fill-color);\n",
              "    }\n",
              "    90% {\n",
              "      border-color: transparent;\n",
              "      border-bottom-color: var(--fill-color);\n",
              "    }\n",
              "  }\n",
              "</style>\n",
              "\n",
              "      <script>\n",
              "        async function quickchart(key) {\n",
              "          const quickchartButtonEl =\n",
              "            document.querySelector('#' + key + ' button');\n",
              "          quickchartButtonEl.disabled = true;  // To prevent multiple clicks.\n",
              "          quickchartButtonEl.classList.add('colab-df-spinner');\n",
              "          try {\n",
              "            const charts = await google.colab.kernel.invokeFunction(\n",
              "                'suggestCharts', [key], {});\n",
              "          } catch (error) {\n",
              "            console.error('Error during call to suggestCharts:', error);\n",
              "          }\n",
              "          quickchartButtonEl.classList.remove('colab-df-spinner');\n",
              "          quickchartButtonEl.classList.add('colab-df-quickchart-complete');\n",
              "        }\n",
              "        (() => {\n",
              "          let quickchartButtonEl =\n",
              "            document.querySelector('#df-6f1b2394-b3f4-4146-84de-9b519c4dae03 button');\n",
              "          quickchartButtonEl.style.display =\n",
              "            google.colab.kernel.accessAllowed ? 'block' : 'none';\n",
              "        })();\n",
              "      </script>\n",
              "    </div>\n",
              "\n",
              "  <div id=\"id_c233d793-c7d4-4fd6-929e-994ea49a6a3d\">\n",
              "    <style>\n",
              "      .colab-df-generate {\n",
              "        background-color: #E8F0FE;\n",
              "        border: none;\n",
              "        border-radius: 50%;\n",
              "        cursor: pointer;\n",
              "        display: none;\n",
              "        fill: #1967D2;\n",
              "        height: 32px;\n",
              "        padding: 0 0 0 0;\n",
              "        width: 32px;\n",
              "      }\n",
              "\n",
              "      .colab-df-generate:hover {\n",
              "        background-color: #E2EBFA;\n",
              "        box-shadow: 0px 1px 2px rgba(60, 64, 67, 0.3), 0px 1px 3px 1px rgba(60, 64, 67, 0.15);\n",
              "        fill: #174EA6;\n",
              "      }\n",
              "\n",
              "      [theme=dark] .colab-df-generate {\n",
              "        background-color: #3B4455;\n",
              "        fill: #D2E3FC;\n",
              "      }\n",
              "\n",
              "      [theme=dark] .colab-df-generate:hover {\n",
              "        background-color: #434B5C;\n",
              "        box-shadow: 0px 1px 3px 1px rgba(0, 0, 0, 0.15);\n",
              "        filter: drop-shadow(0px 1px 2px rgba(0, 0, 0, 0.3));\n",
              "        fill: #FFFFFF;\n",
              "      }\n",
              "    </style>\n",
              "    <button class=\"colab-df-generate\" onclick=\"generateWithVariable('df')\"\n",
              "            title=\"Generate code using this dataframe.\"\n",
              "            style=\"display:none;\">\n",
              "\n",
              "  <svg xmlns=\"http://www.w3.org/2000/svg\" height=\"24px\"viewBox=\"0 0 24 24\"\n",
              "       width=\"24px\">\n",
              "    <path d=\"M7,19H8.4L18.45,9,17,7.55,7,17.6ZM5,21V16.75L18.45,3.32a2,2,0,0,1,2.83,0l1.4,1.43a1.91,1.91,0,0,1,.58,1.4,1.91,1.91,0,0,1-.58,1.4L9.25,21ZM18.45,9,17,7.55Zm-12,3A5.31,5.31,0,0,0,4.9,8.1,5.31,5.31,0,0,0,1,6.5,5.31,5.31,0,0,0,4.9,4.9,5.31,5.31,0,0,0,6.5,1,5.31,5.31,0,0,0,8.1,4.9,5.31,5.31,0,0,0,12,6.5,5.46,5.46,0,0,0,6.5,12Z\"/>\n",
              "  </svg>\n",
              "    </button>\n",
              "    <script>\n",
              "      (() => {\n",
              "      const buttonEl =\n",
              "        document.querySelector('#id_c233d793-c7d4-4fd6-929e-994ea49a6a3d button.colab-df-generate');\n",
              "      buttonEl.style.display =\n",
              "        google.colab.kernel.accessAllowed ? 'block' : 'none';\n",
              "\n",
              "      buttonEl.onclick = () => {\n",
              "        google.colab.notebook.generateWithVariable('df');\n",
              "      }\n",
              "      })();\n",
              "    </script>\n",
              "  </div>\n",
              "\n",
              "    </div>\n",
              "  </div>\n"
            ],
            "application/vnd.google.colaboratory.intrinsic+json": {
              "type": "dataframe",
              "variable_name": "df",
              "summary": "{\n  \"name\": \"df\",\n  \"rows\": 1010,\n  \"fields\": [\n    {\n      \"column\": \"NO\",\n      \"properties\": {\n        \"dtype\": \"number\",\n        \"std\": 291,\n        \"min\": 1,\n        \"max\": 1010,\n        \"num_unique_values\": 1010,\n        \"samples\": [\n          630,\n          789,\n          685\n        ],\n        \"semantic_type\": \"\",\n        \"description\": \"\"\n      }\n    },\n    {\n      \"column\": \"NAMA RUMAH\",\n      \"properties\": {\n        \"dtype\": \"string\",\n        \"num_unique_values\": 949,\n        \"samples\": [\n          \"TEBET Rumah Siap Huni Kondisi Relatif Baru\",\n          \"Rumah 2 Lantai di Kebon Baru Tebet Jakarta Selatan\",\n          \"Rumah Lama Terawat BU Tebet\"\n        ],\n        \"semantic_type\": \"\",\n        \"description\": \"\"\n      }\n    },\n    {\n      \"column\": \"HARGA\",\n      \"properties\": {\n        \"dtype\": \"number\",\n        \"std\": 7340945790,\n        \"min\": 430000000,\n        \"max\": 65000000000,\n        \"num_unique_values\": 209,\n        \"samples\": [\n          10900000000,\n          20000000000,\n          2999000000\n        ],\n        \"semantic_type\": \"\",\n        \"description\": \"\"\n      }\n    },\n    {\n      \"column\": \"LB\",\n      \"properties\": {\n        \"dtype\": \"number\",\n        \"std\": 177,\n        \"min\": 40,\n        \"max\": 1126,\n        \"num_unique_values\": 156,\n        \"samples\": [\n          105,\n          251,\n          168\n        ],\n        \"semantic_type\": \"\",\n        \"description\": \"\"\n      }\n    },\n    {\n      \"column\": \"LT\",\n      \"properties\": {\n        \"dtype\": \"number\",\n        \"std\": 179,\n        \"min\": 25,\n        \"max\": 1400,\n        \"num_unique_values\": 265,\n        \"samples\": [\n          264,\n          720,\n          138\n        ],\n        \"semantic_type\": \"\",\n        \"description\": \"\"\n      }\n    },\n    {\n      \"column\": \"KT\",\n      \"properties\": {\n        \"dtype\": \"number\",\n        \"std\": 1,\n        \"min\": 2,\n        \"max\": 10,\n        \"num_unique_values\": 9,\n        \"samples\": [\n          9,\n          4,\n          8\n        ],\n        \"semantic_type\": \"\",\n        \"description\": \"\"\n      }\n    },\n    {\n      \"column\": \"KM\",\n      \"properties\": {\n        \"dtype\": \"number\",\n        \"std\": 1,\n        \"min\": 1,\n        \"max\": 10,\n        \"num_unique_values\": 10,\n        \"samples\": [\n          9,\n          4,\n          7\n        ],\n        \"semantic_type\": \"\",\n        \"description\": \"\"\n      }\n    },\n    {\n      \"column\": \"GRS\",\n      \"properties\": {\n        \"dtype\": \"number\",\n        \"std\": 1,\n        \"min\": 0,\n        \"max\": 10,\n        \"num_unique_values\": 11,\n        \"samples\": [\n          6,\n          0,\n          9\n        ],\n        \"semantic_type\": \"\",\n        \"description\": \"\"\n      }\n    }\n  ]\n}"
            }
          },
          "metadata": {},
          "execution_count": 4
        }
      ]
    },
    {
      "cell_type": "markdown",
      "source": [
        "Output yang ditampilkan adalah representasi dari DataFrame df yang baru saja dimuat dari file 'DATA RUMAH.xlsx'. Berikut adalah penjelasan kolom-kolom dan beberapa baris data:\n",
        "- NO: Nomor urut dari data rumah.\n",
        "- NAMA RUMAH: Nama atau deskripsi singkat dari rumah yang dijual.\n",
        "- HARGA: Harga jual rumah dalam Rupiah (terlihat dari angkanya yang besar).\n",
        "- LB: Luas Bangunan, kemungkinan dalam meter persegi.\n",
        "- LT: Luas Tanah, kemungkinan dalam meter persegi.\n",
        "- KT: Jumlah Kamar Tidur.\n",
        "- KM: Jumlah Kamar Mandi.\n",
        "- GRS: Jumlah Garasi atau Carport."
      ],
      "metadata": {
        "id": "qHpO-MFzcOaq"
      }
    },
    {
      "cell_type": "markdown",
      "source": [
        "Data Info"
      ],
      "metadata": {
        "id": "WZmTOJREQzzT"
      }
    },
    {
      "cell_type": "code",
      "source": [
        "df.info()"
      ],
      "metadata": {
        "colab": {
          "base_uri": "https://localhost:8080/"
        },
        "id": "scNz2RH_DA6m",
        "outputId": "cc802756-7f43-41d4-bbf1-aeb9dd7a2eea"
      },
      "execution_count": 5,
      "outputs": [
        {
          "output_type": "stream",
          "name": "stdout",
          "text": [
            "<class 'pandas.core.frame.DataFrame'>\n",
            "RangeIndex: 1010 entries, 0 to 1009\n",
            "Data columns (total 8 columns):\n",
            " #   Column      Non-Null Count  Dtype \n",
            "---  ------      --------------  ----- \n",
            " 0   NO          1010 non-null   int64 \n",
            " 1   NAMA RUMAH  1010 non-null   object\n",
            " 2   HARGA       1010 non-null   int64 \n",
            " 3   LB          1010 non-null   int64 \n",
            " 4   LT          1010 non-null   int64 \n",
            " 5   KT          1010 non-null   int64 \n",
            " 6   KM          1010 non-null   int64 \n",
            " 7   GRS         1010 non-null   int64 \n",
            "dtypes: int64(7), object(1)\n",
            "memory usage: 63.3+ KB\n"
          ]
        }
      ]
    },
    {
      "cell_type": "markdown",
      "source": [
        "Informasi dari df.info() sangat berguna untuk memahami struktur dasar data kita sebelum melakukan analisis lebih lanjut. Kita tahu jumlah data, nama-nama kolom, apakah ada nilai yang hilang, dan tipe data setiap kolom.\n",
        "\n",
        "- Jumlah Baris dan Kolom: DataFrame df memiliki 1010 baris dan 8 kolom.\n",
        "- Tidak Ada Nilai Null: Semua kolom memiliki 1010 nilai non-null, yang berarti tidak ada data yang hilang (missing values) dalam DataFrame ini. Jadi tidak perlu penanganan.\n",
        "- Tipe Data: Kita dapat melihat tipe data untuk setiap kolom. Sebagian besar kolom numerik (NO, HARGA, LB, LT, KT, KM, GRS) terdeteksi sebagai integer (int64), yang sesuai. Kolom NAMA RUMAH terdeteksi sebagai 'object', yang kemungkinan berisi teks (string) deskripsi nama rumah.\n"
      ],
      "metadata": {
        "id": "kWFYMyixpd8h"
      }
    },
    {
      "cell_type": "markdown",
      "source": [
        "Statistik Deskriptif"
      ],
      "metadata": {
        "id": "B33feVnJCh14"
      }
    },
    {
      "cell_type": "code",
      "source": [
        "df.describe()"
      ],
      "metadata": {
        "colab": {
          "base_uri": "https://localhost:8080/",
          "height": 300
        },
        "id": "wcRnXecTCdHP",
        "outputId": "ae7ca9f7-13cd-49fd-f7da-d12bb6a7fea3"
      },
      "execution_count": 6,
      "outputs": [
        {
          "output_type": "execute_result",
          "data": {
            "text/plain": [
              "                NO         HARGA           LB           LT           KT  \\\n",
              "count  1010.000000  1.010000e+03  1010.000000  1010.000000  1010.000000   \n",
              "mean    505.500000  7.628987e+09   276.539604   237.432673     4.668317   \n",
              "std     291.706188  7.340946e+09   177.864557   179.957604     1.572776   \n",
              "min       1.000000  4.300000e+08    40.000000    25.000000     2.000000   \n",
              "25%     253.250000  3.262500e+09   150.000000   130.000000     4.000000   \n",
              "50%     505.500000  5.000000e+09   216.500000   165.000000     4.000000   \n",
              "75%     757.750000  9.000000e+09   350.000000   290.000000     5.000000   \n",
              "max    1010.000000  6.500000e+10  1126.000000  1400.000000    10.000000   \n",
              "\n",
              "                KM          GRS  \n",
              "count  1010.000000  1010.000000  \n",
              "mean      3.607921     1.920792  \n",
              "std       1.420066     1.510998  \n",
              "min       1.000000     0.000000  \n",
              "25%       3.000000     1.000000  \n",
              "50%       3.000000     2.000000  \n",
              "75%       4.000000     2.000000  \n",
              "max      10.000000    10.000000  "
            ],
            "text/html": [
              "\n",
              "  <div id=\"df-9caa919e-d16c-4c5d-9337-6adfa852ba9b\" class=\"colab-df-container\">\n",
              "    <div>\n",
              "<style scoped>\n",
              "    .dataframe tbody tr th:only-of-type {\n",
              "        vertical-align: middle;\n",
              "    }\n",
              "\n",
              "    .dataframe tbody tr th {\n",
              "        vertical-align: top;\n",
              "    }\n",
              "\n",
              "    .dataframe thead th {\n",
              "        text-align: right;\n",
              "    }\n",
              "</style>\n",
              "<table border=\"1\" class=\"dataframe\">\n",
              "  <thead>\n",
              "    <tr style=\"text-align: right;\">\n",
              "      <th></th>\n",
              "      <th>NO</th>\n",
              "      <th>HARGA</th>\n",
              "      <th>LB</th>\n",
              "      <th>LT</th>\n",
              "      <th>KT</th>\n",
              "      <th>KM</th>\n",
              "      <th>GRS</th>\n",
              "    </tr>\n",
              "  </thead>\n",
              "  <tbody>\n",
              "    <tr>\n",
              "      <th>count</th>\n",
              "      <td>1010.000000</td>\n",
              "      <td>1.010000e+03</td>\n",
              "      <td>1010.000000</td>\n",
              "      <td>1010.000000</td>\n",
              "      <td>1010.000000</td>\n",
              "      <td>1010.000000</td>\n",
              "      <td>1010.000000</td>\n",
              "    </tr>\n",
              "    <tr>\n",
              "      <th>mean</th>\n",
              "      <td>505.500000</td>\n",
              "      <td>7.628987e+09</td>\n",
              "      <td>276.539604</td>\n",
              "      <td>237.432673</td>\n",
              "      <td>4.668317</td>\n",
              "      <td>3.607921</td>\n",
              "      <td>1.920792</td>\n",
              "    </tr>\n",
              "    <tr>\n",
              "      <th>std</th>\n",
              "      <td>291.706188</td>\n",
              "      <td>7.340946e+09</td>\n",
              "      <td>177.864557</td>\n",
              "      <td>179.957604</td>\n",
              "      <td>1.572776</td>\n",
              "      <td>1.420066</td>\n",
              "      <td>1.510998</td>\n",
              "    </tr>\n",
              "    <tr>\n",
              "      <th>min</th>\n",
              "      <td>1.000000</td>\n",
              "      <td>4.300000e+08</td>\n",
              "      <td>40.000000</td>\n",
              "      <td>25.000000</td>\n",
              "      <td>2.000000</td>\n",
              "      <td>1.000000</td>\n",
              "      <td>0.000000</td>\n",
              "    </tr>\n",
              "    <tr>\n",
              "      <th>25%</th>\n",
              "      <td>253.250000</td>\n",
              "      <td>3.262500e+09</td>\n",
              "      <td>150.000000</td>\n",
              "      <td>130.000000</td>\n",
              "      <td>4.000000</td>\n",
              "      <td>3.000000</td>\n",
              "      <td>1.000000</td>\n",
              "    </tr>\n",
              "    <tr>\n",
              "      <th>50%</th>\n",
              "      <td>505.500000</td>\n",
              "      <td>5.000000e+09</td>\n",
              "      <td>216.500000</td>\n",
              "      <td>165.000000</td>\n",
              "      <td>4.000000</td>\n",
              "      <td>3.000000</td>\n",
              "      <td>2.000000</td>\n",
              "    </tr>\n",
              "    <tr>\n",
              "      <th>75%</th>\n",
              "      <td>757.750000</td>\n",
              "      <td>9.000000e+09</td>\n",
              "      <td>350.000000</td>\n",
              "      <td>290.000000</td>\n",
              "      <td>5.000000</td>\n",
              "      <td>4.000000</td>\n",
              "      <td>2.000000</td>\n",
              "    </tr>\n",
              "    <tr>\n",
              "      <th>max</th>\n",
              "      <td>1010.000000</td>\n",
              "      <td>6.500000e+10</td>\n",
              "      <td>1126.000000</td>\n",
              "      <td>1400.000000</td>\n",
              "      <td>10.000000</td>\n",
              "      <td>10.000000</td>\n",
              "      <td>10.000000</td>\n",
              "    </tr>\n",
              "  </tbody>\n",
              "</table>\n",
              "</div>\n",
              "    <div class=\"colab-df-buttons\">\n",
              "\n",
              "  <div class=\"colab-df-container\">\n",
              "    <button class=\"colab-df-convert\" onclick=\"convertToInteractive('df-9caa919e-d16c-4c5d-9337-6adfa852ba9b')\"\n",
              "            title=\"Convert this dataframe to an interactive table.\"\n",
              "            style=\"display:none;\">\n",
              "\n",
              "  <svg xmlns=\"http://www.w3.org/2000/svg\" height=\"24px\" viewBox=\"0 -960 960 960\">\n",
              "    <path d=\"M120-120v-720h720v720H120Zm60-500h600v-160H180v160Zm220 220h160v-160H400v160Zm0 220h160v-160H400v160ZM180-400h160v-160H180v160Zm440 0h160v-160H620v160ZM180-180h160v-160H180v160Zm440 0h160v-160H620v160Z\"/>\n",
              "  </svg>\n",
              "    </button>\n",
              "\n",
              "  <style>\n",
              "    .colab-df-container {\n",
              "      display:flex;\n",
              "      gap: 12px;\n",
              "    }\n",
              "\n",
              "    .colab-df-convert {\n",
              "      background-color: #E8F0FE;\n",
              "      border: none;\n",
              "      border-radius: 50%;\n",
              "      cursor: pointer;\n",
              "      display: none;\n",
              "      fill: #1967D2;\n",
              "      height: 32px;\n",
              "      padding: 0 0 0 0;\n",
              "      width: 32px;\n",
              "    }\n",
              "\n",
              "    .colab-df-convert:hover {\n",
              "      background-color: #E2EBFA;\n",
              "      box-shadow: 0px 1px 2px rgba(60, 64, 67, 0.3), 0px 1px 3px 1px rgba(60, 64, 67, 0.15);\n",
              "      fill: #174EA6;\n",
              "    }\n",
              "\n",
              "    .colab-df-buttons div {\n",
              "      margin-bottom: 4px;\n",
              "    }\n",
              "\n",
              "    [theme=dark] .colab-df-convert {\n",
              "      background-color: #3B4455;\n",
              "      fill: #D2E3FC;\n",
              "    }\n",
              "\n",
              "    [theme=dark] .colab-df-convert:hover {\n",
              "      background-color: #434B5C;\n",
              "      box-shadow: 0px 1px 3px 1px rgba(0, 0, 0, 0.15);\n",
              "      filter: drop-shadow(0px 1px 2px rgba(0, 0, 0, 0.3));\n",
              "      fill: #FFFFFF;\n",
              "    }\n",
              "  </style>\n",
              "\n",
              "    <script>\n",
              "      const buttonEl =\n",
              "        document.querySelector('#df-9caa919e-d16c-4c5d-9337-6adfa852ba9b button.colab-df-convert');\n",
              "      buttonEl.style.display =\n",
              "        google.colab.kernel.accessAllowed ? 'block' : 'none';\n",
              "\n",
              "      async function convertToInteractive(key) {\n",
              "        const element = document.querySelector('#df-9caa919e-d16c-4c5d-9337-6adfa852ba9b');\n",
              "        const dataTable =\n",
              "          await google.colab.kernel.invokeFunction('convertToInteractive',\n",
              "                                                    [key], {});\n",
              "        if (!dataTable) return;\n",
              "\n",
              "        const docLinkHtml = 'Like what you see? Visit the ' +\n",
              "          '<a target=\"_blank\" href=https://colab.research.google.com/notebooks/data_table.ipynb>data table notebook</a>'\n",
              "          + ' to learn more about interactive tables.';\n",
              "        element.innerHTML = '';\n",
              "        dataTable['output_type'] = 'display_data';\n",
              "        await google.colab.output.renderOutput(dataTable, element);\n",
              "        const docLink = document.createElement('div');\n",
              "        docLink.innerHTML = docLinkHtml;\n",
              "        element.appendChild(docLink);\n",
              "      }\n",
              "    </script>\n",
              "  </div>\n",
              "\n",
              "\n",
              "    <div id=\"df-d15bb76c-f016-4694-a926-88565946fc94\">\n",
              "      <button class=\"colab-df-quickchart\" onclick=\"quickchart('df-d15bb76c-f016-4694-a926-88565946fc94')\"\n",
              "                title=\"Suggest charts\"\n",
              "                style=\"display:none;\">\n",
              "\n",
              "<svg xmlns=\"http://www.w3.org/2000/svg\" height=\"24px\"viewBox=\"0 0 24 24\"\n",
              "     width=\"24px\">\n",
              "    <g>\n",
              "        <path d=\"M19 3H5c-1.1 0-2 .9-2 2v14c0 1.1.9 2 2 2h14c1.1 0 2-.9 2-2V5c0-1.1-.9-2-2-2zM9 17H7v-7h2v7zm4 0h-2V7h2v10zm4 0h-2v-4h2v4z\"/>\n",
              "    </g>\n",
              "</svg>\n",
              "      </button>\n",
              "\n",
              "<style>\n",
              "  .colab-df-quickchart {\n",
              "      --bg-color: #E8F0FE;\n",
              "      --fill-color: #1967D2;\n",
              "      --hover-bg-color: #E2EBFA;\n",
              "      --hover-fill-color: #174EA6;\n",
              "      --disabled-fill-color: #AAA;\n",
              "      --disabled-bg-color: #DDD;\n",
              "  }\n",
              "\n",
              "  [theme=dark] .colab-df-quickchart {\n",
              "      --bg-color: #3B4455;\n",
              "      --fill-color: #D2E3FC;\n",
              "      --hover-bg-color: #434B5C;\n",
              "      --hover-fill-color: #FFFFFF;\n",
              "      --disabled-bg-color: #3B4455;\n",
              "      --disabled-fill-color: #666;\n",
              "  }\n",
              "\n",
              "  .colab-df-quickchart {\n",
              "    background-color: var(--bg-color);\n",
              "    border: none;\n",
              "    border-radius: 50%;\n",
              "    cursor: pointer;\n",
              "    display: none;\n",
              "    fill: var(--fill-color);\n",
              "    height: 32px;\n",
              "    padding: 0;\n",
              "    width: 32px;\n",
              "  }\n",
              "\n",
              "  .colab-df-quickchart:hover {\n",
              "    background-color: var(--hover-bg-color);\n",
              "    box-shadow: 0 1px 2px rgba(60, 64, 67, 0.3), 0 1px 3px 1px rgba(60, 64, 67, 0.15);\n",
              "    fill: var(--button-hover-fill-color);\n",
              "  }\n",
              "\n",
              "  .colab-df-quickchart-complete:disabled,\n",
              "  .colab-df-quickchart-complete:disabled:hover {\n",
              "    background-color: var(--disabled-bg-color);\n",
              "    fill: var(--disabled-fill-color);\n",
              "    box-shadow: none;\n",
              "  }\n",
              "\n",
              "  .colab-df-spinner {\n",
              "    border: 2px solid var(--fill-color);\n",
              "    border-color: transparent;\n",
              "    border-bottom-color: var(--fill-color);\n",
              "    animation:\n",
              "      spin 1s steps(1) infinite;\n",
              "  }\n",
              "\n",
              "  @keyframes spin {\n",
              "    0% {\n",
              "      border-color: transparent;\n",
              "      border-bottom-color: var(--fill-color);\n",
              "      border-left-color: var(--fill-color);\n",
              "    }\n",
              "    20% {\n",
              "      border-color: transparent;\n",
              "      border-left-color: var(--fill-color);\n",
              "      border-top-color: var(--fill-color);\n",
              "    }\n",
              "    30% {\n",
              "      border-color: transparent;\n",
              "      border-left-color: var(--fill-color);\n",
              "      border-top-color: var(--fill-color);\n",
              "      border-right-color: var(--fill-color);\n",
              "    }\n",
              "    40% {\n",
              "      border-color: transparent;\n",
              "      border-right-color: var(--fill-color);\n",
              "      border-top-color: var(--fill-color);\n",
              "    }\n",
              "    60% {\n",
              "      border-color: transparent;\n",
              "      border-right-color: var(--fill-color);\n",
              "    }\n",
              "    80% {\n",
              "      border-color: transparent;\n",
              "      border-right-color: var(--fill-color);\n",
              "      border-bottom-color: var(--fill-color);\n",
              "    }\n",
              "    90% {\n",
              "      border-color: transparent;\n",
              "      border-bottom-color: var(--fill-color);\n",
              "    }\n",
              "  }\n",
              "</style>\n",
              "\n",
              "      <script>\n",
              "        async function quickchart(key) {\n",
              "          const quickchartButtonEl =\n",
              "            document.querySelector('#' + key + ' button');\n",
              "          quickchartButtonEl.disabled = true;  // To prevent multiple clicks.\n",
              "          quickchartButtonEl.classList.add('colab-df-spinner');\n",
              "          try {\n",
              "            const charts = await google.colab.kernel.invokeFunction(\n",
              "                'suggestCharts', [key], {});\n",
              "          } catch (error) {\n",
              "            console.error('Error during call to suggestCharts:', error);\n",
              "          }\n",
              "          quickchartButtonEl.classList.remove('colab-df-spinner');\n",
              "          quickchartButtonEl.classList.add('colab-df-quickchart-complete');\n",
              "        }\n",
              "        (() => {\n",
              "          let quickchartButtonEl =\n",
              "            document.querySelector('#df-d15bb76c-f016-4694-a926-88565946fc94 button');\n",
              "          quickchartButtonEl.style.display =\n",
              "            google.colab.kernel.accessAllowed ? 'block' : 'none';\n",
              "        })();\n",
              "      </script>\n",
              "    </div>\n",
              "\n",
              "    </div>\n",
              "  </div>\n"
            ],
            "application/vnd.google.colaboratory.intrinsic+json": {
              "type": "dataframe",
              "summary": "{\n  \"name\": \"df\",\n  \"rows\": 8,\n  \"fields\": [\n    {\n      \"column\": \"NO\",\n      \"properties\": {\n        \"dtype\": \"number\",\n        \"std\": 363.7041396092928,\n        \"min\": 1.0,\n        \"max\": 1010.0,\n        \"num_unique_values\": 6,\n        \"samples\": [\n          1010.0,\n          505.5,\n          757.75\n        ],\n        \"semantic_type\": \"\",\n        \"description\": \"\"\n      }\n    },\n    {\n      \"column\": \"HARGA\",\n      \"properties\": {\n        \"dtype\": \"number\",\n        \"std\": 21585960588.984234,\n        \"min\": 1010.0,\n        \"max\": 65000000000.0,\n        \"num_unique_values\": 8,\n        \"samples\": [\n          7628987019.011881,\n          5000000000.0,\n          1010.0\n        ],\n        \"semantic_type\": \"\",\n        \"description\": \"\"\n      }\n    },\n    {\n      \"column\": \"LB\",\n      \"properties\": {\n        \"dtype\": \"number\",\n        \"std\": 412.1957354505596,\n        \"min\": 40.0,\n        \"max\": 1126.0,\n        \"num_unique_values\": 8,\n        \"samples\": [\n          276.53960396039605,\n          216.5,\n          1010.0\n        ],\n        \"semantic_type\": \"\",\n        \"description\": \"\"\n      }\n    },\n    {\n      \"column\": \"LT\",\n      \"properties\": {\n        \"dtype\": \"number\",\n        \"std\": 495.8041842369186,\n        \"min\": 25.0,\n        \"max\": 1400.0,\n        \"num_unique_values\": 8,\n        \"samples\": [\n          237.43267326732672,\n          165.0,\n          1010.0\n        ],\n        \"semantic_type\": \"\",\n        \"description\": \"\"\n      }\n    },\n    {\n      \"column\": \"KT\",\n      \"properties\": {\n        \"dtype\": \"number\",\n        \"std\": 355.5202204814405,\n        \"min\": 1.572775739535685,\n        \"max\": 1010.0,\n        \"num_unique_values\": 7,\n        \"samples\": [\n          1010.0,\n          4.6683168316831685,\n          5.0\n        ],\n        \"semantic_type\": \"\",\n        \"description\": \"\"\n      }\n    },\n    {\n      \"column\": \"KM\",\n      \"properties\": {\n        \"dtype\": \"number\",\n        \"std\": 355.7850043036751,\n        \"min\": 1.0,\n        \"max\": 1010.0,\n        \"num_unique_values\": 7,\n        \"samples\": [\n          1010.0,\n          3.607920792079208,\n          4.0\n        ],\n        \"semantic_type\": \"\",\n        \"description\": \"\"\n      }\n    },\n    {\n      \"column\": \"GRS\",\n      \"properties\": {\n        \"dtype\": \"number\",\n        \"std\": 356.1713029208133,\n        \"min\": 0.0,\n        \"max\": 1010.0,\n        \"num_unique_values\": 7,\n        \"samples\": [\n          1010.0,\n          1.9207920792079207,\n          2.0\n        ],\n        \"semantic_type\": \"\",\n        \"description\": \"\"\n      }\n    }\n  ]\n}"
            }
          },
          "metadata": {},
          "execution_count": 6
        }
      ]
    },
    {
      "cell_type": "markdown",
      "source": [
        "Output dari df.describe() memberikan statistik deskriptif penting untuk kolom-kolom numerik dalam DataFrame df. Statistik ini meliputi:\n",
        "\n",
        "- count: Jumlah total data (non-null) untuk setiap kolom (semuanya 1010).\n",
        "mean: Nilai rata-rata untuk setiap kolom. Terlihat rata-rata harga rumah cukup tinggi (sekitar 7.6 miliar).\n",
        "- std: Standar deviasi, mengukur penyebaran data. Harga rumah memiliki standar deviasi yang sangat tinggi, menandakan variasi harga yang besar.\n",
        "- min: Nilai minimum untuk setiap kolom.\n",
        "- 25%: Kuartil pertama (nilai di mana 25% data berada di bawahnya).\n",
        "- 50%: Median atau kuartil kedua (nilai tengah data).\n",
        "- 75%: Kuartil ketiga (nilai di mana 75% data berada di bawahnya).\n",
        "- max: Nilai maksimum untuk setiap kolom."
      ],
      "metadata": {
        "id": "UK6J38OeqQc6"
      }
    },
    {
      "cell_type": "markdown",
      "source": [
        "Cek Missing Value"
      ],
      "metadata": {
        "id": "-DsmuDpsCn0l"
      }
    },
    {
      "cell_type": "code",
      "source": [
        "df.isnull().sum()"
      ],
      "metadata": {
        "colab": {
          "base_uri": "https://localhost:8080/",
          "height": 335
        },
        "id": "LgFrlZVMCpY4",
        "outputId": "198984b1-d2e6-4ce4-a85c-959c9cb8df86"
      },
      "execution_count": 7,
      "outputs": [
        {
          "output_type": "execute_result",
          "data": {
            "text/plain": [
              "NO            0\n",
              "NAMA RUMAH    0\n",
              "HARGA         0\n",
              "LB            0\n",
              "LT            0\n",
              "KT            0\n",
              "KM            0\n",
              "GRS           0\n",
              "dtype: int64"
            ],
            "text/html": [
              "<div>\n",
              "<style scoped>\n",
              "    .dataframe tbody tr th:only-of-type {\n",
              "        vertical-align: middle;\n",
              "    }\n",
              "\n",
              "    .dataframe tbody tr th {\n",
              "        vertical-align: top;\n",
              "    }\n",
              "\n",
              "    .dataframe thead th {\n",
              "        text-align: right;\n",
              "    }\n",
              "</style>\n",
              "<table border=\"1\" class=\"dataframe\">\n",
              "  <thead>\n",
              "    <tr style=\"text-align: right;\">\n",
              "      <th></th>\n",
              "      <th>0</th>\n",
              "    </tr>\n",
              "  </thead>\n",
              "  <tbody>\n",
              "    <tr>\n",
              "      <th>NO</th>\n",
              "      <td>0</td>\n",
              "    </tr>\n",
              "    <tr>\n",
              "      <th>NAMA RUMAH</th>\n",
              "      <td>0</td>\n",
              "    </tr>\n",
              "    <tr>\n",
              "      <th>HARGA</th>\n",
              "      <td>0</td>\n",
              "    </tr>\n",
              "    <tr>\n",
              "      <th>LB</th>\n",
              "      <td>0</td>\n",
              "    </tr>\n",
              "    <tr>\n",
              "      <th>LT</th>\n",
              "      <td>0</td>\n",
              "    </tr>\n",
              "    <tr>\n",
              "      <th>KT</th>\n",
              "      <td>0</td>\n",
              "    </tr>\n",
              "    <tr>\n",
              "      <th>KM</th>\n",
              "      <td>0</td>\n",
              "    </tr>\n",
              "    <tr>\n",
              "      <th>GRS</th>\n",
              "      <td>0</td>\n",
              "    </tr>\n",
              "  </tbody>\n",
              "</table>\n",
              "</div><br><label><b>dtype:</b> int64</label>"
            ]
          },
          "metadata": {},
          "execution_count": 7
        }
      ]
    },
    {
      "cell_type": "markdown",
      "source": [
        "Dengan demikian, DataFrame df tidak mengandung nilai yang hilang pada semua kolomnya. Ini berarti tidak diperlukan penanganan khusus terkait missing values untuk analisis lebih lanjut."
      ],
      "metadata": {
        "id": "iYgIBBYVqqmR"
      }
    },
    {
      "cell_type": "markdown",
      "source": [
        "Cek Duplikasi"
      ],
      "metadata": {
        "id": "4PRWMxa9LFaS"
      }
    },
    {
      "cell_type": "code",
      "source": [
        "df.duplicated()"
      ],
      "metadata": {
        "colab": {
          "base_uri": "https://localhost:8080/",
          "height": 458
        },
        "id": "a8fx280cLEjF",
        "outputId": "5b805789-4e0b-4b33-aabf-3996d2746e03"
      },
      "execution_count": 8,
      "outputs": [
        {
          "output_type": "execute_result",
          "data": {
            "text/plain": [
              "0       False\n",
              "1       False\n",
              "2       False\n",
              "3       False\n",
              "4       False\n",
              "        ...  \n",
              "1005    False\n",
              "1006    False\n",
              "1007    False\n",
              "1008    False\n",
              "1009    False\n",
              "Length: 1010, dtype: bool"
            ],
            "text/html": [
              "<div>\n",
              "<style scoped>\n",
              "    .dataframe tbody tr th:only-of-type {\n",
              "        vertical-align: middle;\n",
              "    }\n",
              "\n",
              "    .dataframe tbody tr th {\n",
              "        vertical-align: top;\n",
              "    }\n",
              "\n",
              "    .dataframe thead th {\n",
              "        text-align: right;\n",
              "    }\n",
              "</style>\n",
              "<table border=\"1\" class=\"dataframe\">\n",
              "  <thead>\n",
              "    <tr style=\"text-align: right;\">\n",
              "      <th></th>\n",
              "      <th>0</th>\n",
              "    </tr>\n",
              "  </thead>\n",
              "  <tbody>\n",
              "    <tr>\n",
              "      <th>0</th>\n",
              "      <td>False</td>\n",
              "    </tr>\n",
              "    <tr>\n",
              "      <th>1</th>\n",
              "      <td>False</td>\n",
              "    </tr>\n",
              "    <tr>\n",
              "      <th>2</th>\n",
              "      <td>False</td>\n",
              "    </tr>\n",
              "    <tr>\n",
              "      <th>3</th>\n",
              "      <td>False</td>\n",
              "    </tr>\n",
              "    <tr>\n",
              "      <th>4</th>\n",
              "      <td>False</td>\n",
              "    </tr>\n",
              "    <tr>\n",
              "      <th>...</th>\n",
              "      <td>...</td>\n",
              "    </tr>\n",
              "    <tr>\n",
              "      <th>1005</th>\n",
              "      <td>False</td>\n",
              "    </tr>\n",
              "    <tr>\n",
              "      <th>1006</th>\n",
              "      <td>False</td>\n",
              "    </tr>\n",
              "    <tr>\n",
              "      <th>1007</th>\n",
              "      <td>False</td>\n",
              "    </tr>\n",
              "    <tr>\n",
              "      <th>1008</th>\n",
              "      <td>False</td>\n",
              "    </tr>\n",
              "    <tr>\n",
              "      <th>1009</th>\n",
              "      <td>False</td>\n",
              "    </tr>\n",
              "  </tbody>\n",
              "</table>\n",
              "<p>1010 rows × 1 columns</p>\n",
              "</div><br><label><b>dtype:</b> bool</label>"
            ]
          },
          "metadata": {},
          "execution_count": 8
        }
      ]
    },
    {
      "cell_type": "markdown",
      "source": [
        "Data tidak mengandung duplikat"
      ],
      "metadata": {
        "id": "zXxikVRiqs-3"
      }
    },
    {
      "cell_type": "markdown",
      "source": [
        "Distribusi Data"
      ],
      "metadata": {
        "id": "rvA81kgVCupx"
      }
    },
    {
      "cell_type": "code",
      "source": [
        "df.hist(bins=50, figsize=(20, 15))\n",
        "plt.show()"
      ],
      "metadata": {
        "colab": {
          "base_uri": "https://localhost:8080/",
          "height": 768
        },
        "id": "pS-Z6S9xCwjN",
        "outputId": "10346bef-9a35-4099-a351-912ed2bd103f"
      },
      "execution_count": 9,
      "outputs": [
        {
          "output_type": "display_data",
          "data": {
            "text/plain": [
              "<Figure size 2000x1500 with 9 Axes>"
            ],
            "image/png": "[encoded data removed]"
          },
          "metadata": {}
        }
      ]
    },
    {
      "cell_type": "markdown",
      "source": [
        "- Histogram untuk kolom 'NO' menunjukkan distribusi seragam karena merupakan indeks. Histogram 'HARGA' dan 'LB' keduanya miring ke kanan, mengindikasikan bahwa sebagian besar rumah memiliki harga dan luas bangunan yang lebih rendah, dengan beberapa rumah memiliki nilai yang jauh lebih tinggi. Distribusi 'LB' juga menunjukkan beberapa puncak.\n",
        "- Histogram 'LT' (Luas Tanah) miring ke kanan, dengan banyak rumah memiliki luas tanah kecil dan beberapa memiliki luas tanah besar. Histogram 'KT' (Jumlah Kamar Tidur) dan 'KM' (Jumlah Kamar Mandi) menunjukkan distribusi diskrit, dengan frekuensi tertinggi pada 4 dan 5 kamar tidur, serta 3 kamar mandi.\n",
        "ringkas\n",
        "- Histogram 'GRS' (Jumlah Garasi/Carport) menunjukkan distribusi diskrit dengan frekuensi tertinggi pada 2 garasi/carport, diikuti oleh 1."
      ],
      "metadata": {
        "id": "MqBxR3eSaHb4"
      }
    },
    {
      "cell_type": "markdown",
      "source": [
        "Matriks Korelasi"
      ],
      "metadata": {
        "id": "jJLR-1eNDnC2"
      }
    },
    {
      "cell_type": "code",
      "source": [
        "\n",
        "# Pilih hanya kolom-kolom numerik\n",
        "numerical_df = df[['HARGA', 'LB', 'LT', 'KT', 'KM', 'GRS']]\n",
        "\n",
        "# Hitung matriks korelasi hanya pada kolom numerik\n",
        "corr_matrix = numerical_df.corr()\n",
        "\n",
        "# Buat heatmap\n",
        "plt.figure(figsize=(10, 6))\n",
        "sns.heatmap(corr_matrix, annot=True, cmap='coolwarm', fmt='.2f')\n",
        "plt.title('Matriks Korelasi Antar Fitur Numerik') # Tambahkan judul agar lebih jelas\n",
        "plt.show()"
      ],
      "metadata": {
        "colab": {
          "base_uri": "https://localhost:8080/",
          "height": 545
        },
        "id": "hji4k26fDoKL",
        "outputId": "0828c304-9f8e-4d82-ce67-78b28fd3c235"
      },
      "execution_count": 10,
      "outputs": [
        {
          "output_type": "display_data",
          "data": {
            "text/plain": [
              "<Figure size 1000x600 with 2 Axes>"
            ],
            "image/png": "[encoded data removed]"
          },
          "metadata": {}
        }
      ]
    },
    {
      "cell_type": "markdown",
      "source": [
        "- Harga berkorelasi positif kuat dengan Luas Tanah (0.81) dan Luas Bangunan (0.75).\n",
        "- Luas Tanah dan Luas Bangunan juga berkorelasi positif kuat (0.74).\n",
        "- Jumlah Kamar Tidur dan Jumlah Kamar Mandi berkorelasi positif cukup kuat (0.67).\n",
        "- Korelasi fitur lainnya cenderung lebih lemah."
      ],
      "metadata": {
        "id": "BjrjVbpXZwhC"
      }
    },
    {
      "cell_type": "markdown",
      "source": [
        "# Data Preparation"
      ],
      "metadata": {
        "id": "SJFuB7cIBoMB"
      }
    },
    {
      "cell_type": "markdown",
      "source": [
        "Pisahkan Fitur dan Target"
      ],
      "metadata": {
        "id": "vaWI0Dk-N1bm"
      }
    },
    {
      "cell_type": "code",
      "source": [
        "# Memilih fitur dan target\n",
        "features = df[['LB', 'LT', 'KT', 'KM', 'GRS']]  # Fitur yang digunakan untuk prediksi harga\n",
        "target = df['HARGA']  # Kolom target yang berisi harga rumah"
      ],
      "metadata": {
        "id": "qjvnWlMtHNUY"
      },
      "execution_count": 11,
      "outputs": []
    },
    {
      "cell_type": "markdown",
      "source": [
        "'LB', 'LT', 'KT', 'KM', dan 'GRS' dari DataFrame df dan menyimpannya sebagai variabel features. Kolom 'HARGA' dipilih dan disimpan sebagai variabel target. Dengan demikian, features akan digunakan sebagai input untuk memprediksi target (harga rumah) dalam langkah pemodelan selanjutnya."
      ],
      "metadata": {
        "id": "w-VUiSDcaoZb"
      }
    },
    {
      "cell_type": "markdown",
      "source": [
        "Split Data"
      ],
      "metadata": {
        "id": "dcjbodawN3wc"
      }
    },
    {
      "cell_type": "code",
      "source": [
        "# 2. Membagi data menjadi data latih dan data uji (80% train, 20% test)\n",
        "X_train, X_test, y_train, y_test = train_test_split(features, target, test_size=0.2, random_state=42)\n"
      ],
      "metadata": {
        "id": "rrXZFc0FH7Yr"
      },
      "execution_count": 12,
      "outputs": []
    },
    {
      "cell_type": "markdown",
      "source": [],
      "metadata": {
        "id": "DWNu0pxVgI2o"
      }
    },
    {
      "cell_type": "markdown",
      "source": [
        "# Modeling"
      ],
      "metadata": {
        "id": "tN9mWOE3BwaM"
      }
    },
    {
      "cell_type": "markdown",
      "source": [
        "Random Forest Regressor"
      ],
      "metadata": {
        "id": "P98nqXppPCkS"
      }
    },
    {
      "cell_type": "code",
      "source": [
        "# Membuat dan melatih model Random Forest Regressor\n",
        "rf_model = RandomForestRegressor(random_state=42)\n",
        "rf_model.fit(X_train, y_train)\n",
        "# Melakukan prediksi pada data uji\n",
        "y_pred_rf = rf_model.predict(X_test)\n"
      ],
      "metadata": {
        "id": "3VZMbHZRIQNo"
      },
      "execution_count": 13,
      "outputs": []
    },
    {
      "cell_type": "markdown",
      "source": [
        "Linear Regression"
      ],
      "metadata": {
        "id": "Kf-ZK7qPPFsB"
      }
    },
    {
      "cell_type": "code",
      "source": [
        "# Membuat dan melatih model Linear Regression\n",
        "lr_model = LinearRegression()\n",
        "lr_model.fit(X_train, y_train)\n",
        "# Melakukan prediksi pada data uji dengan Linear Regression\n",
        "y_pred_lr = lr_model.predict(X_test)"
      ],
      "metadata": {
        "id": "nAvFe2VpPGmY"
      },
      "execution_count": 14,
      "outputs": []
    },
    {
      "cell_type": "markdown",
      "source": [
        "# Evaluation"
      ],
      "metadata": {
        "id": "zsA254qAB0Ns"
      }
    },
    {
      "cell_type": "markdown",
      "source": [
        "Evaluasi Random Forest Regressor"
      ],
      "metadata": {
        "id": "py2vgn7GPPSm"
      }
    },
    {
      "cell_type": "code",
      "source": [
        "\n",
        "# Evaluasi model menggunakan MAE, MSE, RMSE, dan R²\n",
        "mae_rf = mean_absolute_error(y_test, y_pred_rf)\n",
        "mse_rf = mean_squared_error(y_test, y_pred_rf)\n",
        "rmse_rf = np.sqrt(mse_rf)  # Tambahan RMSE\n",
        "r2_rf = r2_score(y_test, y_pred_rf)\n",
        "\n",
        "# Menampilkan hasil evaluasi\n",
        "print(f'Mean Absolute Error (MAE) - Random Forest: {mae_rf}')\n",
        "print(f'Mean Squared Error (MSE) - Random Forest: {mse_rf}')\n",
        "print(f'Root Mean Squared Error (RMSE) - Random Forest: {rmse_rf}')\n",
        "print(f'R-squared (R²) - Random Forest: {r2_rf}')\n"
      ],
      "metadata": {
        "id": "thMIwLhOITB4",
        "colab": {
          "base_uri": "https://localhost:8080/"
        },
        "outputId": "05a6a2a7-8afa-49bb-d3ba-8597d6de27f1"
      },
      "execution_count": 15,
      "outputs": [
        {
          "output_type": "stream",
          "name": "stdout",
          "text": [
            "Mean Absolute Error (MAE) - Random Forest: 1759550222.1703582\n",
            "Mean Squared Error (MSE) - Random Forest: 1.0635204265435824e+19\n",
            "Root Mean Squared Error (RMSE) - Random Forest: 3261166089.8267393\n",
            "R-squared (R²) - Random Forest: 0.772181577855092\n"
          ]
        }
      ]
    },
    {
      "cell_type": "markdown",
      "source": [
        "Evaluasi Linear Regression"
      ],
      "metadata": {
        "id": "F0CpEN6OPRy7"
      }
    },
    {
      "cell_type": "code",
      "source": [
        "# Evaluasi model Linear Regression\n",
        "mae_lr = mean_absolute_error(y_test, y_pred_lr)\n",
        "mse_lr = mean_squared_error(y_test, y_pred_lr)\n",
        "rmse_lr = np.sqrt(mse_lr)  # Tambahan RMSE\n",
        "r2_lr = r2_score(y_test, y_pred_lr)\n",
        "\n",
        "# Menampilkan hasil evaluasi untuk model Linear Regression\n",
        "print(\"Evaluasi Model Linear Regression:\")\n",
        "print(f'Mean Absolute Error (MAE) - Linear Regression: {mae_lr}')\n",
        "print(f'Mean Squared Error (MSE) - Linear Regression: {mse_lr}')\n",
        "print(f'Root Mean Squared Error (RMSE) - Linear Regression: {rmse_lr}')\n",
        "print(f'R-squared (R²) - Linear Regression: {r2_lr}')\n"
      ],
      "metadata": {
        "colab": {
          "base_uri": "https://localhost:8080/"
        },
        "id": "fx-jz2yIPbnE",
        "outputId": "2bad6ecf-0482-44c7-be61-10851296d286"
      },
      "execution_count": 16,
      "outputs": [
        {
          "output_type": "stream",
          "name": "stdout",
          "text": [
            "Evaluasi Model Linear Regression:\n",
            "Mean Absolute Error (MAE) - Linear Regression: 1980345761.1519253\n",
            "Mean Squared Error (MSE) - Linear Regression: 1.0675729074057431e+19\n",
            "Root Mean Squared Error (RMSE) - Linear Regression: 3267373421.2754793\n",
            "R-squared (R²) - Linear Regression: 0.7713134894077545\n"
          ]
        }
      ]
    },
    {
      "cell_type": "markdown",
      "source": [
        "- Metrik evaluasi menunjukkan bahwa Random Forest memiliki kinerja prediksi yang sedikit lebih baik daripada Linear Regression.\n",
        "- Random Forest memiliki MAE dan RMSE yang lebih rendah, yang berarti rata-rata kesalahan prediksinya lebih kecil. Nilai R-squared Random Forest juga sedikit lebih tinggi, menunjukkan kemampuannya yang sedikit lebih baik dalam menjelaskan varians harga rumah.\n",
        "- Meskipun demikian, nilai MSE yang besar pada kedua model mengindikasikan adanya kesalahan prediksi yang signifikan pada beberapa data poin. Secara keseluruhan, Random Forest memberikan prediksi yang sedikit lebih akurat."
      ],
      "metadata": {
        "id": "muAUrHOJbkdO"
      }
    },
    {
      "cell_type": "code",
      "source": [
        "# Simpan model ke file .pkl\n",
        "joblib.dump(rf_model, 'model.pkl')"
      ],
      "metadata": {
        "colab": {
          "base_uri": "https://localhost:8080/"
        },
        "id": "m-nylqwSl7sh",
        "outputId": "c6096076-7c45-44fb-bb48-b8650dd5ae45"
      },
      "execution_count": 17,
      "outputs": [
        {
          "output_type": "execute_result",
          "data": {
            "text/plain": [
              "['model.pkl']"
            ]
          },
          "metadata": {},
          "execution_count": 17
        }
      ]
    }
  ]
}